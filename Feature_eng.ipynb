{
 "cells": [
  {
   "cell_type": "markdown",
   "metadata": {},
   "source": [
    " aqui se preparan los conjuntos de datos necesarios para hacer las consultas en la API."
   ]
  },
  {
   "cell_type": "code",
   "execution_count": 1,
   "metadata": {},
   "outputs": [],
   "source": [
    "import pandas as pd\n",
    "import pyarrow as pa\n",
    "import pyarrow.parquet as pq\n",
    "\n"
   ]
  },
  {
   "cell_type": "markdown",
   "metadata": {},
   "source": [
    "+ def PlayTimeGenre( genero : str ): Debe devolver año con mas horas jugadas para dicho género.\n",
    "Ejemplo de retorno: {\"Año de lanzamiento con más horas jugadas para Género X\" : 2013}\n",
    "\n",
    "\n",
    "+def UserForGenre( genero : str ): Debe devolver el usuario que acumula más horas jugadas para el género dado y una lista de la acumulación de horas jugadas por año.\n",
    "Ejemplo de retorno: {\"Usuario con más horas jugadas para Género X\" : us213ndjss09sdf, \"Horas jugadas\":[{Año: 2013, Horas: 203}, {Año: 2012, Horas: 100}, {Año: 2011, Horas: 23}]} \n",
    "\n",
    "+ def UsersRecommend( año : int ): Devuelve el top 3 de juegos MÁS recomendados por usuarios para el año dado. (reviews.recommend = True y comentarios positivos/neutrales)\n",
    "Ejemplo de retorno: [{\"Puesto 1\" : X}, {\"Puesto 2\" : Y},{\"Puesto 3\" : Z}]\n",
    "\n",
    "+def UsersWorstDeveloper( año : int ): Devuelve el top 3 de desarrolladoras con juegos MENOS recomendados por usuarios para el año dado. (reviews.recommend = False y comentarios negativos)\n",
    "Ejemplo de retorno: [{\"Puesto 1\" : X}, {\"Puesto 2\" : Y},{\"Puesto 3\" : Z}]\n",
    "\n",
    "+def sentiment_analysis( empresa desarrolladora : str ): Según la empresa desarrolladora, se devuelve un diccionario con el nombre de la desarrolladora como llave y una lista con la cantidad total de registros de reseñas de usuarios que se encuentren categorizados con un análisis de sentimiento como valor.\n",
    "Ejemplo de retorno: {'Valve' : [Negative = 182, Neutral = 120, Positive = 278]}\n",
    "\n"
   ]
  },
  {
   "cell_type": "code",
   "execution_count": 9,
   "metadata": {},
   "outputs": [],
   "source": [
    "\n",
    "df_games = pd.read_parquet(r'./Data/clean_games_steam.parquet.gzip')\n",
    "df_items = pd.read_parquet(r'./Data/clean_games_items.parquet.gzip') \n",
    "df_reviews = pd.read_parquet(r'./Data/clean_games_reviews.parquet.gzip') \n"
   ]
  },
  {
   "cell_type": "markdown",
   "metadata": {},
   "source": [
    "primer endpoint\n",
    "Cantidad de items y porcentaje de contenido Free por año según empresa desarrolladora"
   ]
  },
  {
   "cell_type": "code",
   "execution_count": null,
   "metadata": {},
   "outputs": [],
   "source": [
    "price_anio_developer = df_games[['price', 'year', 'developer', 'id']]\n",
    "# Se renombra la columna 'id' para unirla con el dataframe anterior\n",
    "price_anio_developer = price_anio_developer.rename(columns={'id':'item_id'})\n",
    "# se eliminan los duplicados\n",
    "df_items_developer = price_anio_developer.drop_duplicates()\n",
    "# Reseteamos el indice\n",
    "df_items_developer\n"
   ]
  },
  {
   "cell_type": "code",
   "execution_count": null,
   "metadata": {},
   "outputs": [],
   "source": [
    "df_items_developer.to_parquet(r'./Data/endpoint1.parquet.gzip', compression='gzip') # Exportamos\n"
   ]
  },
  {
   "cell_type": "markdown",
   "metadata": {},
   "source": [
    "segundo endpoint\n",
    "Debe devolver cantidad de dinero gastado por el usuario, el porcentaje de recomendación en base a reviews.recommend y cantidad de items."
   ]
  },
  {
   "cell_type": "code",
   "execution_count": null,
   "metadata": {},
   "outputs": [],
   "source": [
    "\n",
    "df_reviews2 = df_reviews[['reviews_recommend']]\n"
   ]
  },
  {
   "cell_type": "code",
   "execution_count": null,
   "metadata": {},
   "outputs": [],
   "source": [
    "# Se extraen las columnas 'items_count', 'user_id' e 'item_id'\n",
    "df_gastos_items = df_items[['items_count', 'user_id', 'item_id']]\n",
    "df_gastos_items\n"
   ]
  },
  {
   "cell_type": "code",
   "execution_count": null,
   "metadata": {},
   "outputs": [],
   "source": [
    "price_juegos = df_games[['price', 'id']]\n",
    "# Elimina los duplicados\n",
    "price_juegos = price_juegos.drop_duplicates(subset='id', keep='first')\n",
    "# Se renombra 'id' por 'item_id' para unir mas adelante\n",
    "price_juegos = price_juegos.rename(columns={'id':'item_id'})\n",
    "price_juegos\n"
   ]
  },
  {
   "cell_type": "code",
   "execution_count": null,
   "metadata": {},
   "outputs": [],
   "source": [
    "df_gastos_items = pd.concat([df_gastos_items ,price_juegos,df_reviews2], axis=0)\n",
    "df_gastos_items\n"
   ]
  },
  {
   "cell_type": "code",
   "execution_count": null,
   "metadata": {},
   "outputs": [],
   "source": [
    "df_gastos_items[df_gastos_items['price'].isnull()]\n"
   ]
  },
  {
   "cell_type": "code",
   "execution_count": null,
   "metadata": {},
   "outputs": [],
   "source": [
    "df_relleno = df_gastos_items['price'].fillna(0.0)\n",
    "# Se borra la columna original y se concatena la columna rellena con todo el dataframe\n",
    "df_gastos_items = pd.concat([df_gastos_items.drop('price', axis=1), df_relleno ], axis=1)\n",
    "df_gastos_items\n"
   ]
  },
  {
   "cell_type": "code",
   "execution_count": null,
   "metadata": {},
   "outputs": [],
   "source": [
    "# Se elimina 'item_id'\n",
    "df_gastos_items = df_gastos_items.drop('item_id', axis=1)\n",
    "df_gastos_items.columns\n"
   ]
  },
  {
   "cell_type": "code",
   "execution_count": null,
   "metadata": {},
   "outputs": [],
   "source": [
    "df_gastos_items_group = df_gastos_items.groupby('user_id')['price'].sum().reset_index()\n",
    "df_gastos_items_group\n"
   ]
  },
  {
   "cell_type": "code",
   "execution_count": null,
   "metadata": {},
   "outputs": [],
   "source": [
    "df_count_items = df_gastos_items[['items_count', 'user_id']]\n",
    "# se eliminan los duplicados\n",
    "df_count_items = df_count_items.drop_duplicates(subset='user_id', keep='first')\n",
    "df_count_items\n"
   ]
  },
  {
   "cell_type": "code",
   "execution_count": null,
   "metadata": {},
   "outputs": [],
   "source": [
    "df_gastos_items = df_count_items.merge(df_gastos_items_group, on='user_id', how='right')\n",
    "df_gastos_items\n"
   ]
  },
  {
   "cell_type": "code",
   "execution_count": null,
   "metadata": {},
   "outputs": [],
   "source": [
    "df_gastos_items.to_parquet(r'./Data/endpoint2.parquet.gzip', compression='gzip') # Exportamos\n"
   ]
  },
  {
   "cell_type": "markdown",
   "metadata": {},
   "source": [
    "endpoint 3 UserForGenre \n",
    "Debe devolver el usuario que acumula más horas jugadas para el género dado y una lista de la acumulación de horas jugadas por año. Ejemplo de retorno: {\"Usuario con más horas jugadas para Género X\" : us213ndjss09sdf, \"Horas jugadas\":[{Año: 2013, Horas: 203}, {Año: 2012, Horas: 100}, {Año: 2011, Horas: 23}]}"
   ]
  },
  {
   "cell_type": "code",
   "execution_count": 13,
   "metadata": {},
   "outputs": [],
   "source": [
    "anio_user = df_games[[ 'year']]\n"
   ]
  },
  {
   "cell_type": "code",
   "execution_count": 34,
   "metadata": {},
   "outputs": [
    {
     "data": {
      "text/html": [
       "<div>\n",
       "<style scoped>\n",
       "    .dataframe tbody tr th:only-of-type {\n",
       "        vertical-align: middle;\n",
       "    }\n",
       "\n",
       "    .dataframe tbody tr th {\n",
       "        vertical-align: top;\n",
       "    }\n",
       "\n",
       "    .dataframe thead th {\n",
       "        text-align: right;\n",
       "    }\n",
       "</style>\n",
       "<table border=\"1\" class=\"dataframe\">\n",
       "  <thead>\n",
       "    <tr style=\"text-align: right;\">\n",
       "      <th></th>\n",
       "      <th>year</th>\n",
       "      <th>user_id</th>\n",
       "      <th>playtime_forever</th>\n",
       "      <th>genre</th>\n",
       "    </tr>\n",
       "  </thead>\n",
       "  <tbody>\n",
       "    <tr>\n",
       "      <th>58447</th>\n",
       "      <td>NaN</td>\n",
       "      <td>76561197970982479</td>\n",
       "      <td>6.0</td>\n",
       "      <td>6.0</td>\n",
       "    </tr>\n",
       "    <tr>\n",
       "      <th>58448</th>\n",
       "      <td>NaN</td>\n",
       "      <td>76561197970982479</td>\n",
       "      <td>0.0</td>\n",
       "      <td>0.0</td>\n",
       "    </tr>\n",
       "    <tr>\n",
       "      <th>58449</th>\n",
       "      <td>NaN</td>\n",
       "      <td>76561197970982479</td>\n",
       "      <td>7.0</td>\n",
       "      <td>7.0</td>\n",
       "    </tr>\n",
       "    <tr>\n",
       "      <th>58450</th>\n",
       "      <td>NaN</td>\n",
       "      <td>76561197970982479</td>\n",
       "      <td>0.0</td>\n",
       "      <td>0.0</td>\n",
       "    </tr>\n",
       "    <tr>\n",
       "      <th>58451</th>\n",
       "      <td>NaN</td>\n",
       "      <td>76561197970982479</td>\n",
       "      <td>0.0</td>\n",
       "      <td>0.0</td>\n",
       "    </tr>\n",
       "    <tr>\n",
       "      <th>...</th>\n",
       "      <td>...</td>\n",
       "      <td>...</td>\n",
       "      <td>...</td>\n",
       "      <td>...</td>\n",
       "    </tr>\n",
       "    <tr>\n",
       "      <th>5211651</th>\n",
       "      <td>NaN</td>\n",
       "      <td>76561198329548331</td>\n",
       "      <td>0.0</td>\n",
       "      <td>0.0</td>\n",
       "    </tr>\n",
       "    <tr>\n",
       "      <th>5211652</th>\n",
       "      <td>NaN</td>\n",
       "      <td>76561198329548331</td>\n",
       "      <td>0.0</td>\n",
       "      <td>0.0</td>\n",
       "    </tr>\n",
       "    <tr>\n",
       "      <th>5211653</th>\n",
       "      <td>NaN</td>\n",
       "      <td>76561198329548331</td>\n",
       "      <td>3.0</td>\n",
       "      <td>3.0</td>\n",
       "    </tr>\n",
       "    <tr>\n",
       "      <th>5211654</th>\n",
       "      <td>NaN</td>\n",
       "      <td>76561198329548331</td>\n",
       "      <td>4.0</td>\n",
       "      <td>4.0</td>\n",
       "    </tr>\n",
       "    <tr>\n",
       "      <th>5211655</th>\n",
       "      <td>NaN</td>\n",
       "      <td>76561198329548331</td>\n",
       "      <td>3.0</td>\n",
       "      <td>3.0</td>\n",
       "    </tr>\n",
       "  </tbody>\n",
       "</table>\n",
       "<p>5153209 rows × 4 columns</p>\n",
       "</div>"
      ],
      "text/plain": [
       "        year            user_id  playtime_forever  genre\n",
       "58447    NaN  76561197970982479               6.0    6.0\n",
       "58448    NaN  76561197970982479               0.0    0.0\n",
       "58449    NaN  76561197970982479               7.0    7.0\n",
       "58450    NaN  76561197970982479               0.0    0.0\n",
       "58451    NaN  76561197970982479               0.0    0.0\n",
       "...      ...                ...               ...    ...\n",
       "5211651  NaN  76561198329548331               0.0    0.0\n",
       "5211652  NaN  76561198329548331               0.0    0.0\n",
       "5211653  NaN  76561198329548331               3.0    3.0\n",
       "5211654  NaN  76561198329548331               4.0    4.0\n",
       "5211655  NaN  76561198329548331               3.0    3.0\n",
       "\n",
       "[5153209 rows x 4 columns]"
      ]
     },
     "execution_count": 34,
     "metadata": {},
     "output_type": "execute_result"
    }
   ],
   "source": [
    "df_UserForGenre = df_items[['user_id','playtime_forever','genre']]\n",
    "df_UserForGenre  = pd.concat([anio_user, df_UserForGenre], axis=0, ignore_index=True)\n",
    "# df_UserForGenre.dropna()\n",
    "df_UserForGenre.dropna(thresh=2)\n",
    "df_UserForGenre.head()\n",
    "df_UserForGenre.dropna(subset=['user_id','playtime_forever','genre'])\n"
   ]
  },
  {
   "cell_type": "code",
   "execution_count": null,
   "metadata": {},
   "outputs": [],
   "source": []
  },
  {
   "cell_type": "code",
   "execution_count": 35,
   "metadata": {},
   "outputs": [],
   "source": [
    "df_UserForGenre.to_parquet(r'./Data/endpoint3.parquet.gzip', compression='gzip') # Exportamos\n",
    "\n"
   ]
  },
  {
   "cell_type": "markdown",
   "metadata": {},
   "source": [
    "endpoint 4 - best_developer_year\n",
    " Devuelve el top 3 de juegos MÁS recomendados por usuarios para el año dado. (reviews.recommend = True y comentarios positivos/neutrales)\n",
    "    Ejemplo de retorno: [{\"Puesto 1\" : X}, {\"Puesto 2\" : Y},{\"Puesto 3\" : Z}]"
   ]
  },
  {
   "cell_type": "code",
   "execution_count": 11,
   "metadata": {},
   "outputs": [],
   "source": [
    "df_best_developer_year = df_reviews[['reviews_recommend','reviews_helpful','reviews_review']]\n"
   ]
  },
  {
   "cell_type": "code",
   "execution_count": 12,
   "metadata": {},
   "outputs": [],
   "source": [
    "df_best_developer_year.to_parquet(r'./Data/endpoint4.parquet.gzip', compression='gzip') # Exportamos\n"
   ]
  },
  {
   "cell_type": "markdown",
   "metadata": {},
   "source": [
    "endpoint 5 developer_reviews_analysis\n",
    " Según el desarrollador, se devuelve un diccionario con el nombre del desarrollador como llave y una lista con la cantidad total de registros de reseñas de usuarios que se encuentren categorizados con un análisis de sentimiento como valor positivo o negativo"
   ]
  },
  {
   "cell_type": "markdown",
   "metadata": {},
   "source": [
    " El objetivo es asignar un valor numérico a un texto, en este caso a los comentarios que los usuarios dejaron para un juego determinado, para representar si el sentimiento expresado en el texto es negativo, neutral o positivo.\""
   ]
  },
  {
   "cell_type": "code",
   "execution_count": 3,
   "metadata": {},
   "outputs": [],
   "source": [
    "from textblob import TextBlob\n",
    "import re\n"
   ]
  },
  {
   "cell_type": "code",
   "execution_count": 4,
   "metadata": {},
   "outputs": [],
   "source": [
    "def functionsentiment_analisis(review):\n",
    "    '''\n",
    "    Realiza un análisis de sentimiento en un texto dado y devuelve un valor numérico que representa el sentimiento.\n",
    "\n",
    "    Esta función utiliza la librería TextBlob para analizar el sentimiento en un texto dado y\n",
    "    asigna un valor numérico de acuerdo a la polaridad del sentimiento.\n",
    "\n",
    "    Parameters:\n",
    "        review (str): El texto que se va a analizar para determinar su sentimiento.\n",
    "\n",
    "    Returns:\n",
    "        int: Un valor numérico que representa el sentimiento del texto:\n",
    "             - 0 para sentimiento negativo.\n",
    "             - 1 para sentimiento neutral o no clasificable.\n",
    "             - 2 para sentimiento positivo.\n",
    "    '''\n",
    "    if review is None:\n",
    "        return 1\n",
    "    analysis = TextBlob(review)\n",
    "    polarity = analysis.sentiment.polarity\n",
    "    if polarity < -0.2:\n",
    "        return 0  \n",
    "    elif polarity > 0.2: \n",
    "        return 2 \n",
    "    else:\n",
    "        return 1 \n"
   ]
  },
  {
   "cell_type": "code",
   "execution_count": 5,
   "metadata": {},
   "outputs": [
    {
     "data": {
      "text/html": [
       "<div>\n",
       "<style scoped>\n",
       "    .dataframe tbody tr th:only-of-type {\n",
       "        vertical-align: middle;\n",
       "    }\n",
       "\n",
       "    .dataframe tbody tr th {\n",
       "        vertical-align: top;\n",
       "    }\n",
       "\n",
       "    .dataframe thead th {\n",
       "        text-align: right;\n",
       "    }\n",
       "</style>\n",
       "<table border=\"1\" class=\"dataframe\">\n",
       "  <thead>\n",
       "    <tr style=\"text-align: right;\">\n",
       "      <th></th>\n",
       "      <th>user_id</th>\n",
       "      <th>user_url</th>\n",
       "      <th>reviews_item_id</th>\n",
       "      <th>reviews_helpful</th>\n",
       "      <th>reviews_recommend</th>\n",
       "      <th>reviews_review</th>\n",
       "      <th>sentiment_analysis</th>\n",
       "    </tr>\n",
       "  </thead>\n",
       "  <tbody>\n",
       "    <tr>\n",
       "      <th>0</th>\n",
       "      <td>76561197970982479</td>\n",
       "      <td>http://steamcommunity.com/profiles/76561197970...</td>\n",
       "      <td>1250</td>\n",
       "      <td>No ratings yet</td>\n",
       "      <td>True</td>\n",
       "      <td>Simple yet with great replayability. In my opi...</td>\n",
       "      <td>1</td>\n",
       "    </tr>\n",
       "    <tr>\n",
       "      <th>1</th>\n",
       "      <td>js41637</td>\n",
       "      <td>http://steamcommunity.com/id/js41637</td>\n",
       "      <td>251610</td>\n",
       "      <td>15 of 20 people (75%) found this review helpful</td>\n",
       "      <td>True</td>\n",
       "      <td>I know what you think when you see this title ...</td>\n",
       "      <td>1</td>\n",
       "    </tr>\n",
       "    <tr>\n",
       "      <th>2</th>\n",
       "      <td>evcentric</td>\n",
       "      <td>http://steamcommunity.com/id/evcentric</td>\n",
       "      <td>248820</td>\n",
       "      <td>No ratings yet</td>\n",
       "      <td>True</td>\n",
       "      <td>A suitably punishing roguelike platformer.  Wi...</td>\n",
       "      <td>2</td>\n",
       "    </tr>\n",
       "    <tr>\n",
       "      <th>3</th>\n",
       "      <td>doctr</td>\n",
       "      <td>http://steamcommunity.com/id/doctr</td>\n",
       "      <td>250320</td>\n",
       "      <td>2 of 2 people (100%) found this review helpful</td>\n",
       "      <td>True</td>\n",
       "      <td>This game... is so fun. The fight sequences ha...</td>\n",
       "      <td>2</td>\n",
       "    </tr>\n",
       "    <tr>\n",
       "      <th>4</th>\n",
       "      <td>maplemage</td>\n",
       "      <td>http://steamcommunity.com/id/maplemage</td>\n",
       "      <td>211420</td>\n",
       "      <td>35 of 43 people (81%) found this review helpful</td>\n",
       "      <td>True</td>\n",
       "      <td>Git gud</td>\n",
       "      <td>1</td>\n",
       "    </tr>\n",
       "  </tbody>\n",
       "</table>\n",
       "</div>"
      ],
      "text/plain": [
       "             user_id                                           user_url   \n",
       "0  76561197970982479  http://steamcommunity.com/profiles/76561197970...  \\\n",
       "1            js41637               http://steamcommunity.com/id/js41637   \n",
       "2          evcentric             http://steamcommunity.com/id/evcentric   \n",
       "3              doctr                 http://steamcommunity.com/id/doctr   \n",
       "4          maplemage             http://steamcommunity.com/id/maplemage   \n",
       "\n",
       "  reviews_item_id                                  reviews_helpful   \n",
       "0            1250                                   No ratings yet  \\\n",
       "1          251610  15 of 20 people (75%) found this review helpful   \n",
       "2          248820                                   No ratings yet   \n",
       "3          250320   2 of 2 people (100%) found this review helpful   \n",
       "4          211420  35 of 43 people (81%) found this review helpful   \n",
       "\n",
       "   reviews_recommend                                     reviews_review   \n",
       "0               True  Simple yet with great replayability. In my opi...  \\\n",
       "1               True  I know what you think when you see this title ...   \n",
       "2               True  A suitably punishing roguelike platformer.  Wi...   \n",
       "3               True  This game... is so fun. The fight sequences ha...   \n",
       "4               True                                            Git gud   \n",
       "\n",
       "   sentiment_analysis  \n",
       "0                   1  \n",
       "1                   1  \n",
       "2                   2  \n",
       "3                   2  \n",
       "4                   1  "
      ]
     },
     "execution_count": 5,
     "metadata": {},
     "output_type": "execute_result"
    }
   ],
   "source": [
    "\n",
    "df_reviews['sentiment_analysis'] = df_reviews['reviews_review'].apply(functionsentiment_analisis)\n",
    "df_reviews.head()\n",
    "\n",
    "\n"
   ]
  },
  {
   "cell_type": "code",
   "execution_count": 6,
   "metadata": {},
   "outputs": [
    {
     "data": {
      "text/plain": [
       "Index(['user_id', 'user_url', 'reviews_item_id', 'reviews_helpful',\n",
       "       'reviews_recommend', 'sentiment_analysis'],\n",
       "      dtype='object')"
      ]
     },
     "execution_count": 6,
     "metadata": {},
     "output_type": "execute_result"
    }
   ],
   "source": [
    "df_developer_reviews_analysis = df_reviews.drop(columns=['reviews_review'])\n",
    "df_developer_reviews_analysis.columns\n"
   ]
  },
  {
   "cell_type": "code",
   "execution_count": 7,
   "metadata": {},
   "outputs": [],
   "source": [
    "df_developer_reviews_analysis.to_parquet(r'./Data/endpoint5.parquet.gzip', compression='gzip') # Exportamos\n"
   ]
  },
  {
   "cell_type": "markdown",
   "metadata": {},
   "source": [
    "enpoint 6 \n",
    "Ingresando el id de producto, deberíamos recibir una lista con 5 juegos recomendados similares al ingresado"
   ]
  },
  {
   "cell_type": "code",
   "execution_count": null,
   "metadata": {},
   "outputs": [],
   "source": [
    "df_recomendacion_juego = df_games[['app_name', 'id','genres']]\n",
    "df_recomendacion_juego\n"
   ]
  },
  {
   "cell_type": "code",
   "execution_count": null,
   "metadata": {},
   "outputs": [],
   "source": [
    "df_recomendacion_juego.to_parquet(r'./Data/endpoint6.parquet.gzip', compression='gzip') # Exportamos\n"
   ]
  }
 ],
 "metadata": {
  "kernelspec": {
   "display_name": "Python 3",
   "language": "python",
   "name": "python3"
  },
  "language_info": {
   "codemirror_mode": {
    "name": "ipython",
    "version": 3
   },
   "file_extension": ".py",
   "mimetype": "text/x-python",
   "name": "python",
   "nbconvert_exporter": "python",
   "pygments_lexer": "ipython3",
   "version": "3.11.3"
  }
 },
 "nbformat": 4,
 "nbformat_minor": 2
}
